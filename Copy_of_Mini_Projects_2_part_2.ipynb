{
  "nbformat": 4,
  "nbformat_minor": 0,
  "metadata": {
    "colab": {
      "name": "Copy of Mini_Projects_2/ part 2.ipynb",
      "provenance": [],
      "include_colab_link": true
    },
    "kernelspec": {
      "name": "python3",
      "display_name": "Python 3"
    }
  },
  "cells": [
    {
      "cell_type": "markdown",
      "metadata": {
        "id": "view-in-github",
        "colab_type": "text"
      },
      "source": [
        "<a href=\"https://colab.research.google.com/github/HabibBerouti/Machine-Learning-Training/blob/main/Copy_of_Mini_Projects_2_part_2.ipynb\" target=\"_parent\"><img src=\"https://colab.research.google.com/assets/colab-badge.svg\" alt=\"Open In Colab\"/></a>"
      ]
    },
    {
      "cell_type": "markdown",
      "metadata": {
        "id": "c2sSEq3uSurn"
      },
      "source": [
        "# Files and Exceptions"
      ]
    },
    {
      "cell_type": "code",
      "metadata": {
        "id": "VppOUgyU_Auv",
        "colab": {
          "base_uri": "https://localhost:8080/"
        },
        "outputId": "03748dc6-9a5f-4ff9-bc1a-e80664735527"
      },
      "source": [
        "from google.colab import drive\n",
        "drive.mount('/content/drive')"
      ],
      "execution_count": 16,
      "outputs": [
        {
          "output_type": "stream",
          "text": [
            "Drive already mounted at /content/drive; to attempt to forcibly remount, call drive.mount(\"/content/drive\", force_remount=True).\n"
          ],
          "name": "stdout"
        }
      ]
    },
    {
      "cell_type": "markdown",
      "metadata": {
        "id": "qw2XyRs-TWIF"
      },
      "source": [
        "**8. Sum of Numbers** <br>\n",
        "Assume that a file containing a series of integers is named numbers.txt and exists on the Drive. Write a program that reads all of the numbers stored in the file and calculates their total.\n",
        "\n",
        "Find file here: <br>\n",
        "https://drive.google.com/file/d/1GaOURA7jp0NLvfaOfl4cCClKK_pv3q0r/view?usp=sharing"
      ]
    },
    {
      "cell_type": "code",
      "metadata": {
        "id": "92EStR9KSu8N",
        "colab": {
          "base_uri": "https://localhost:8080/"
        },
        "outputId": "06c6a975-c360-4ff2-e5e2-f05338e7fb29"
      },
      "source": [
        "def main():\n",
        "  numbers=open(\"/content/drive/MyDrive/numbers.txt\",\"r\")\n",
        "  total=0\n",
        "  for line in numbers:\n",
        "    run_time=float(line)\n",
        "    print(run_time)\n",
        "    total+=run_time\n",
        "  numbers.close()\n",
        "  print(\"the total numbers=\",total)\n",
        "main()"
      ],
      "execution_count": 14,
      "outputs": [
        {
          "output_type": "stream",
          "text": [
            "86850343.0\n",
            "88065952.0\n",
            "89381968.0\n",
            "89536251.0\n",
            "89714939.0\n",
            "89826424.0\n",
            "90124775.0\n",
            "90672109.0\n",
            "91408453.0\n",
            "92438737.0\n",
            "93361277.0\n",
            "93890243.0\n",
            "94372638.0\n",
            "94759578.0\n",
            "95079649.0\n",
            "95439651.0\n",
            "95611217.0\n",
            "95980818.0\n",
            "96336673.0\n",
            "96581524.0\n",
            "97041824.0\n",
            "97379048.0\n",
            "97672500.0\n",
            "98066518.0\n",
            "98479598.0\n",
            "98934553.0\n",
            "99246321.0\n",
            "99431136.0\n",
            "99835823.0\n",
            "100049946.0\n",
            "100234498.0\n",
            "100568960.0\n",
            "100806870.0\n",
            "101097750.0\n",
            "101820859.0\n",
            "102455417.0\n",
            "103013163.0\n",
            "103523365.0\n",
            "104177442.0\n",
            "104757015.0\n",
            "105145703.0\n",
            "105694237.0\n",
            "106140898.0\n",
            "107246430.0\n",
            "109272544.0\n",
            "111539027.0\n",
            "112522852.0\n",
            "113783213.0\n",
            "114620610.0\n",
            "116036567.0\n",
            "117421727.0\n",
            "119134533.0\n",
            "120378586.0\n",
            "121554027.0\n",
            "121817833.0\n",
            "122730767.0\n",
            "123673909.0\n",
            "124747226.0\n",
            "the total numbers= 5931486514.0\n"
          ],
          "name": "stdout"
        }
      ]
    },
    {
      "cell_type": "code",
      "metadata": {
        "id": "B7GImG_lSu-u"
      },
      "source": [
        ""
      ],
      "execution_count": null,
      "outputs": []
    },
    {
      "cell_type": "markdown",
      "metadata": {
        "id": "gW0mWcdDVgK4"
      },
      "source": [
        "**9. Average of Numbers** <br>\n",
        "Assume that a file containing a series of integers is named numbers.txt and exists on the Drive. Write a program that calculates the average of all the numbers stored in\n",
        "the file"
      ]
    },
    {
      "cell_type": "code",
      "metadata": {
        "id": "3-DZx-vnSvCe",
        "colab": {
          "base_uri": "https://localhost:8080/"
        },
        "outputId": "bb05a8d8-9275-4e77-a17b-e44927a95e86"
      },
      "source": [
        "N=open(\"/content/drive/MyDrive/numbers.txt\",\"r\")\n",
        "L=0\n",
        "count=0\n",
        "for line in N:\n",
        "  numbers=float(line)\n",
        "  L+=numbers\n",
        "  count+=1\n",
        "average=L/count\n",
        "N.close\n",
        "print(\"the average is =\",average)\n"
      ],
      "execution_count": 15,
      "outputs": [
        {
          "output_type": "stream",
          "text": [
            "the average is = 102267008.86206897\n"
          ],
          "name": "stdout"
        }
      ]
    },
    {
      "cell_type": "markdown",
      "metadata": {
        "id": "vjchCYETVwPx"
      },
      "source": [
        "**10. Random Number File Writer**<br>\n",
        "Write a program that writes a series of random numbers to a file. Each random number should be in the range of 1 \n",
        "through 500. The application should let the user specify how\n",
        "many random numbers the file will hold.\n"
      ]
    },
    {
      "cell_type": "code",
      "metadata": {
        "id": "DCyba_BZVxLF",
        "colab": {
          "base_uri": "https://localhost:8080/"
        },
        "outputId": "f64ca82c-ba2f-43c9-bdd5-dbc9a4210f3c"
      },
      "source": [
        "import random\n",
        "N=int(input(\"how many random numbers do you want?\"))\n",
        "file=open(\"randomnumbers\",\"w\")\n",
        "for count in range(1,N+1):\n",
        "  numbers=random.randint(1,500)\n",
        "  file.write(str(numbers)+ \"\\n\")\n",
        "file.close\n",
        "print(\"the numbers are added to randomnumbers\")\n",
        "\n"
      ],
      "execution_count": 20,
      "outputs": [
        {
          "output_type": "stream",
          "text": [
            "how many random numbers do you want?6\n",
            "the numbers are added to randomnumbers\n"
          ],
          "name": "stdout"
        }
      ]
    },
    {
      "cell_type": "code",
      "metadata": {
        "id": "uZ7CQJM0VxN5"
      },
      "source": [
        ""
      ],
      "execution_count": null,
      "outputs": []
    },
    {
      "cell_type": "markdown",
      "metadata": {
        "id": "p75ZKqbXWMdY"
      },
      "source": [
        "**11.  Exception Handing** <br>\n",
        "Modify the program that you wrote for Exercise 9 so it handles the following exceptions: <br>\n",
        "* It should handle any IOError exceptions that are raised when the file is opened and data\n",
        "is read from it. <br>\n",
        "* It should handle any ValueError exceptions that are raised when the items that are read from the file are converted to a number."
      ]
    },
    {
      "cell_type": "code",
      "metadata": {
        "id": "22SOHQbrVxRE",
        "colab": {
          "base_uri": "https://localhost:8080/"
        },
        "outputId": "30e3195e-fe7a-4273-b7ff-4301f6a69d42"
      },
      "source": [
        "try:\n",
        "  N=open(\"/content/drive/MyDrive/numbers.txt\",\"r\")\n",
        "  L=0\n",
        "  count=0\n",
        "  for line in N:\n",
        "    numbers=float(line)\n",
        "    L+=numbers\n",
        "    count+=1\n",
        "  average=L/count\n",
        "  N.close\n",
        "  print(\"the average is =\",average)\n",
        "\n",
        "except IOError:\n",
        "    print('An error occured trying to read the file.')\n",
        "\n",
        "except ValueError:\n",
        "    print('Non-numeric data found in the file.')\n"
      ],
      "execution_count": 26,
      "outputs": [
        {
          "output_type": "stream",
          "text": [
            "the average is = 102267008.86206897\n"
          ],
          "name": "stdout"
        }
      ]
    },
    {
      "cell_type": "code",
      "metadata": {
        "id": "3p0MENR_WrBV"
      },
      "source": [
        ""
      ],
      "execution_count": null,
      "outputs": []
    }
  ]
}